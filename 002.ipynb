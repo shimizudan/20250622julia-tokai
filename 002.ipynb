{
 "cells": [
  {
   "cell_type": "code",
   "execution_count": 22,
   "id": "1538a55b",
   "metadata": {},
   "outputs": [
    {
     "data": {
      "text/plain": [
       "2-element Vector{SymbolicUtils.BasicSymbolic{Real}}:\n",
       " (5//2) + (1//2)*√(37)\n",
       " (5//2) - (1//2)*√(37)"
      ]
     },
     "metadata": {},
     "output_type": "display_data"
    }
   ],
   "source": [
    "using Nemo, Symbolics\n",
    "\n",
    "@variables x \n",
    "f = x^2 - 5x - 3\n",
    "solutions = symbolic_solve(f, x)"
   ]
  },
  {
   "cell_type": "code",
   "execution_count": null,
   "id": "494f3edc",
   "metadata": {},
   "outputs": [
    {
     "name": "stdout",
     "output_type": "stream",
     "text": [
      "[5.54138126514911, -0.5413812651491099]\n"
     ]
    }
   ],
   "source": [
    "numerical_solutions = [Float64(substitute(sol, Dict())) for sol in solutions]\n",
    "println(numerical_solutions)"
   ]
  },
  {
   "cell_type": "code",
   "execution_count": 27,
   "id": "2044d1f7",
   "metadata": {},
   "outputs": [
    {
     "data": {
      "text/plain": [
       "2-element Vector{BigFloat}:\n",
       "  5.541381265149109844499842122601033531042485047393205593209576523243166362659435\n",
       " -0.5413812651491098444998421226010335310424850473932055932095765232431663626594693"
      ]
     },
     "metadata": {},
     "output_type": "display_data"
    }
   ],
   "source": [
    " [substitute(sol, Dict()) for sol in solutions]"
   ]
  },
  {
   "cell_type": "code",
   "execution_count": 31,
   "id": "9054f6e9",
   "metadata": {},
   "outputs": [
    {
     "data": {
      "text/plain": [
       "5.541381265149109844499842122601033531042485047393205593209576523243166362659435"
      ]
     },
     "metadata": {},
     "output_type": "display_data"
    }
   ],
   "source": [
    "substitute(solutions[1],Dict())"
   ]
  },
  {
   "cell_type": "code",
   "execution_count": 34,
   "id": "b938ca40",
   "metadata": {},
   "outputs": [
    {
     "name": "stdout",
     "output_type": "stream",
     "text": [
      "(5//2) + (1//2)*√(37)\n"
     ]
    }
   ],
   "source": [
    "solutions[1] |>println"
   ]
  },
  {
   "cell_type": "code",
   "execution_count": 2,
   "id": "9f81bae5",
   "metadata": {},
   "outputs": [
    {
     "ename": "UndefVarError",
     "evalue": "UndefVarError: `RootsOf` not defined in `Symbolics`\nSuggestion: check for spelling errors or missing imports.",
     "output_type": "error",
     "traceback": [
      "UndefVarError: `RootsOf` not defined in `Symbolics`\n",
      "Suggestion: check for spelling errors or missing imports.\n",
      "\n",
      "Stacktrace:\n",
      " [1] getproperty(x::Module, f::Symbol)\n",
      "   @ Base ./Base.jl:42\n",
      " [2] top-level scope\n",
      "   @ ~/Documents/Teaching_materials/2025/20250622julia-tokai/jl_notebook_cell_df34fa98e69747e1a8f8a730347b8e2f_W1sZmlsZQ==.jl:4"
     ]
    }
   ],
   "source": [
    "using Symbolics\n",
    "@variables x\n",
    "poly = x^2 - 5x - 3\n",
    "roots = Symbolics.RootsOf(poly, x)"
   ]
  },
  {
   "cell_type": "code",
   "execution_count": null,
   "id": "72a7106f",
   "metadata": {},
   "outputs": [],
   "source": []
  }
 ],
 "metadata": {
  "kernelspec": {
   "display_name": "Julia 1.11.5",
   "language": "julia",
   "name": "julia-1.11"
  },
  "language_info": {
   "file_extension": ".jl",
   "mimetype": "application/julia",
   "name": "julia",
   "version": "1.11.5"
  }
 },
 "nbformat": 4,
 "nbformat_minor": 5
}

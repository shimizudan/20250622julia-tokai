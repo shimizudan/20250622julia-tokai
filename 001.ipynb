{
  "cells": [
    {
      "cell_type": "markdown",
      "metadata": {},
      "source": [
        "# Julia言語と高校数学\n",
        "\n",
        "このノートブックでは、Julia言語を使って高校数学の様々な分野を学習します。"
      ]
    },
    {
      "cell_type": "markdown",
      "metadata": {},
      "source": [
        "## 1. Julia言語の概要\n",
        "\n",
        "Juliaは統計処理や科学技術計算、機械学習に強いプログラミング言語です。\n",
        "Google Colabで無料で利用できるようになりました。\n",
        "\n",
        "公式サイト: https://julialang.org/"
      ]
    },
    {
      "cell_type": "code",
      "execution_count": null,
      "metadata": {},
      "outputs": [],
      "source": [
        "# 必要なパッケージのインストール（初回のみ、10分程度かかります）\n",
        "using Pkg\n",
        "Pkg.add(\"Nemo\")\n",
        "Pkg.add(\"Symbolics\")\n",
        "Pkg.add(\"SimplePolynomials\")\n",
        "Pkg.add(\"Optim\")\n",
        "Pkg.add(\"Distributions\")\n",
        "Pkg.add(\"Combinatorics\")\n",
        "Pkg.add(\"StatsPlots\")\n",
        "using Nemo, Symbolics, SimplePolynomials, Optim, Distributions, Combinatorics, StatsPlots;"
      ]
    },
    {
      "cell_type": "markdown",
      "metadata": {},
      "source": [
        "## 2. 基本的な計算"
      ]
    },
    {
      "cell_type": "code",
      "execution_count": null,
      "metadata": {},
      "outputs": [],
      "source": [
        "# 四則演算\n",
        "1 + 1"
      ]
    },
    {
      "cell_type": "code",
      "execution_count": null,
      "metadata": {},
      "outputs": [],
      "source": [
        "# 数学定数\n",
        "π , √2"
      ]
    },
    {
      "cell_type": "code",
      "execution_count": null,
      "metadata": {},
      "outputs": [],
      "source": [
        "# 分数計算（小数と有理数の違い）\n",
        "println(\"小数計算: \", 1/3 + 3*2/4)\n",
        "println(\"有理数計算: \", 1//3 + 3*2//4)"
      ]
    },
    {
      "cell_type": "code",
      "execution_count": null,
      "metadata": {},
      "outputs": [],
      "source": [
        "# 関数の定義\n",
        "f(x) = x^2 + 2x - 4\n",
        "println(\"f(0) = \", f(0))\n",
        "println(\"f(2) = \", f(2))\n",
        "println(\"f(-√3) = \", f(-√3))"
      ]
    },
    {
      "cell_type": "markdown",
      "metadata": {},
      "source": [
        "## 3. グラフ描画"
      ]
    },
    {
      "cell_type": "code",
      "execution_count": null,
      "metadata": {},
      "outputs": [],
      "source": [
        "using Plots\n",
        "ENV[\"GKS_ENCODING\"] = \"utf8\"\n",
        "gr(fontfamily=\"IPAexGothic\")  # Linux\n",
        "\n",
        "\n",
        "# sin関数のグラフ\n",
        "plot(sin, xlabel=\"x\", ylabel=\"sin(x)\", title=\"正弦関数\")"
      ]
    },
    {
      "cell_type": "code",
      "execution_count": null,
      "metadata": {},
      "outputs": [],
      "source": [
        "# 2次関数のグラフ\n",
        "f(x) = x^2 + 2x - 4\n",
        "g(x) = abs(f(x))\n",
        "\n",
        "plot(f, -5, 3, label=\"f(x) = x² + 2x - 4\", lw=2)\n",
        "plot!(g, -5, 3, label=\"g(x) = |f(x)|\", lw=2, ls=:dash)"
      ]
    },
    {
      "cell_type": "code",
      "execution_count": null,
      "metadata": {},
      "outputs": [],
      "source": [
        "# 媒介変数表示（リサージュ曲線）\n",
        "t = 0:0.01:2π\n",
        "xs = sin.(3t)\n",
        "ys = sin.(2t)\n",
        "\n",
        "plot(xs, ys, aspectratio=true, title=\"リサージュ曲線\", lw=2)"
      ]
    },
    {
      "cell_type": "code",
      "execution_count": null,
      "metadata": {},
      "outputs": [],
      "source": [
        "# 3D曲面\n",
        "surface(0:0.1:2π, 0:0.1:2π, (x,y)->sin(x+y), title=\"z = sin(x+y)\")"
      ]
    },
    {
      "cell_type": "markdown",
      "metadata": {},
      "source": [
        "## 4. 方程式の解法"
      ]
    },
    {
      "cell_type": "code",
      "execution_count": null,
      "metadata": {},
      "outputs": [],
      "source": [
        "# 記号的解法\n",
        "using Nemo , Symbolics\n",
        "\n",
        "@variables x\n",
        "f(x) = x^2 + 2x - 4\n",
        "\n",
        "println(\"x² + 2x - 4 = 0 の解:\")\n",
        "symbolic_solve(f(x),x)\n"
      ]
    },
    {
      "cell_type": "code",
      "execution_count": null,
      "metadata": {},
      "outputs": [],
      "source": [
        "# 解の公式の一般形\n",
        "\n",
        "@variables a b c x\n",
        "println(\"ax² + bx + c = 0 の解:\")\n",
        "symbolic_solve(a*x^2 + b*x + c, x)"
      ]
    },
    {
      "cell_type": "code",
      "execution_count": null,
      "metadata": {},
      "outputs": [],
      "source": [
        "# 数値的解法\n",
        "using SimplePolynomials\n",
        "\n",
        "x = getx()\n",
        "println(\"x⁵ - 1 = 0 の解（5次単位根）:\")\n",
        "SimplePolynomials.roots(x^5 - 1)"
      ]
    },
    {
      "cell_type": "markdown",
      "metadata": {},
      "source": [
        "## 5. 漸化式と数列"
      ]
    },
    {
      "cell_type": "code",
      "execution_count": null,
      "metadata": {},
      "outputs": [],
      "source": [
        "# 漸化式 a₁ = 3, aₙ₊₁ = 2aₙ + 1\n",
        "function seq_a(n::Int)\n",
        "    if n == 1\n",
        "        3\n",
        "    elseif n ≥ 2\n",
        "        2 * seq_a(n - 1) + 1\n",
        "    end\n",
        "end\n",
        "\n",
        "# 最初の10項を表示\n",
        "println(\"数列の最初の10項:\")\n",
        "for i in 1:10\n",
        "    println(\"a$i = \", seq_a(i))\n",
        "end"
      ]
    },
    {
      "cell_type": "code",
      "execution_count": null,
      "metadata": {},
      "outputs": [],
      "source": [
        "# 数列のグラフ化\n",
        "using Plots \n",
        "X = 1:10\n",
        "Y = seq_a.(X)\n",
        "\n",
        "plot(X, Y, label=\"aₙ\", lw=2)\n",
        "scatter!(X, Y, label=\"\", markersize=5)"
      ]
    },
    {
      "cell_type": "markdown",
      "metadata": {},
      "source": [
        "## 6. 最適化問題"
      ]
    },
    {
      "cell_type": "code",
      "execution_count": null,
      "metadata": {},
      "outputs": [],
      "source": [
        "# 線形計画法の可視化\n",
        "# 3x + 4y ≤ 10, 4x + y ≤ 4, x ≥ 0, y ≥ 0 のとき x + y の最大値\n",
        "\n",
        "function feasible_region(x, y)\n",
        "    if 3x + 4y ≤ 10 && 4x + y ≤ 4 && x ≥ 0 && y ≥ 0\n",
        "        1\n",
        "    else\n",
        "        0\n",
        "    end\n",
        "end\n",
        "\n",
        "contour(-0.5:0.01:2, -0.5:0.01:3, feasible_region, \n",
        "        levels=[0.5], fill=true, title=\"実行可能領域\")"
      ]
    },
    {
      "cell_type": "code",
      "execution_count": 52,
      "metadata": {},
      "outputs": [
        {
          "name": "stdout",
          "output_type": "stream",
          "text": [
            "最適な (a, b) = [0.6666666677815241, 0.6666666677815241]\n",
            "最小値 = -0.2962962962962963\n"
          ]
        }
      ],
      "source": [
        "# 非線形最適化\n",
        "using Optim\n",
        "\n",
        "# a³ + b³ - 2ab の最小値を求める（a, b > 0）\n",
        "f(x) = x[1]^3 + x[2]^3 - 2*x[1]*x[2]\n",
        "\n",
        "x0 = [1.0, 1.0]\n",
        "lower = [1e-6, 1e-6]\n",
        "upper = [10.0, 10.0]\n",
        "\n",
        "result = optimize(f, lower, upper, x0)\n",
        "x_opt = Optim.minimizer(result)\n",
        "min_f = Optim.minimum(result)\n",
        "\n",
        "println(\"最適な (a, b) = \", x_opt)\n",
        "println(\"最小値 = \", min_f)"
      ]
    },
    {
      "cell_type": "markdown",
      "metadata": {},
      "source": [
        "## 7. 統計・確率\n"
      ]
    },
    {
      "cell_type": "markdown",
      "metadata": {},
      "source": [
        "---\n",
        "\n",
        "### 問題：スマートフォン利用率の調査\n",
        "\n",
        "ある高校の生徒150名を無作為に選んで調査したところ、スマートフォンを所有している生徒は126名でした。\n",
        "\n",
        "この高校の生徒全体におけるスマートフォン所有率（母比率 p）について、信頼度95%の信頼区間を求めなさい。\n",
        "\n",
        "#### 与えられた情報\n",
        "- 標本サイズ：n = 150名\n",
        "- スマートフォン所有者数：x = 126名\n",
        "- 標本比率：p̂ = 126/150 = 0.84\n",
        "- 信頼度：95%（有意水準 α = 0.05）\n",
        "\n",
        "#### 求めるもの\n",
        "母比率 p の95%信頼区間\n",
        "\n",
        "---\n",
        "\n",
        "**解答例**：信頼区間は約 (0.7814, 0.8986) となり、この高校のスマートフォン所有率は78.1%～89.9%の間にあると95%の信頼度で推定できます。"
      ]
    },
    {
      "cell_type": "code",
      "execution_count": null,
      "metadata": {},
      "outputs": [],
      "source": [
        "# 母比率の信頼区間（Wald法）\n",
        "using Distributions\n",
        "\n",
        "n = 150  # サンプルサイズ\n",
        "x = 126  # 成功数（スマートフォン所有者）\n",
        "p̂ = x / n\n",
        "α = 0.05\n",
        "\n",
        "se = sqrt(p̂ * (1 - p̂) / n)\n",
        "z = cquantile(Normal(), α/2)\n",
        "\n",
        "lower = p̂ - z * se\n",
        "upper = p̂ + z * se\n",
        "\n",
        "println(\"母比率の95%信頼区間: (\", round(lower, digits=4), \", \", round(upper, digits=4), \")\")\n",
        "println(\"スマートフォン所有率は約\", round(p̂*100, digits=1), \"%と推定されます\")"
      ]
    },
    {
      "cell_type": "code",
      "execution_count": null,
      "metadata": {},
      "outputs": [],
      "source": [
        "# 正規分布と二項分布の可視化\n",
        "using StatsPlots\n",
        "\n",
        "p1 = plot(Normal(0, 1), title=\"標準正規分布\", lw=2)\n",
        "p2 = plot(Binomial(100, 1/3), title=\"二項分布 B(100, 1/3)\", lw=2)\n",
        "plot(p1, p2, layout=(1, 2), size=(800, 300))"
      ]
    },
    {
      "cell_type": "markdown",
      "metadata": {},
      "source": [
        "## 8. モンテカルロ法による積分"
      ]
    },
    {
      "cell_type": "code",
      "execution_count": null,
      "metadata": {},
      "outputs": [],
      "source": [
        "# ∫₀¹ sin(x²) dx をモンテカルロ法で計算（フレネル積分）\n",
        "using Distributions\n",
        "\n",
        "function montecarlo(f, a, b, n)\n",
        "    sum(f(rand(Uniform(a, b))) for _ = 1:n) / n * (b - a)\n",
        "end\n",
        "\n",
        "f(x) = sin(x^2)\n",
        "result = montecarlo(f, 0, 1, 10^6)\n",
        "\n",
        "println(\"∫₀¹ sin(x²) dx ≈ \", result)\n",
        "println(\"理論値（フレネル積分）≈ 0.3103...\")"
      ]
    },
    {
      "cell_type": "code",
      "execution_count": null,
      "metadata": {},
      "outputs": [],
      "source": [
        "# 被積分関数の可視化\\n\",\n",
        "\n",
        "plot(f, 0, 1, fill=(0, 0.3, :red), label=\"∫₀¹ sin(x²) dx\", lw=2)\n",
        "plot!(x -> sin(x^2), 0, 3, label=\"y = sin(x²)\", lw=2, color=:blue)\n",
        "title!(\"フレネル積分\")"
      ]
    },
    {
      "cell_type": "markdown",
      "metadata": {},
      "source": [
        "## 9. 実践問題：場合の数と確率"
      ]
    },
    {
      "cell_type": "code",
      "execution_count": null,
      "metadata": {},
      "outputs": [],
      "source": [
        "# 問題：1から9までの数字から3つ選んで3桁の整数を作る\n",
        "using Combinatorics\n",
        "\n",
        "X = [i for i in 1:9]\n",
        "Y = permutations(X, 3) |> collect\n",
        "\n",
        "println(\"(1) 全部で \", length(Y), \" 通り\")\n",
        "\n",
        "# 奇数の個数\n",
        "odd_count = sum(1 for y in Y if y[3] % 2 == 1)\n",
        "println(\"(2) 奇数は \", odd_count, \" 個\")"
      ]
    },
    {
      "cell_type": "code",
      "execution_count": null,
      "metadata": {},
      "outputs": [],
      "source": [
        "# 確率のシミュレーション：赤玉3個、白玉5個から2個取り出す\n",
        "P = \"🔴 🔴 🔴 ⚪ ⚪ ⚪ ⚪ ⚪\"\n",
        "Q = combinations(split(P, \" \"), 2) |> collect\n",
        "\n",
        "# (1) 2個とも赤玉の確率（理論値）\n",
        "prob_2red = sum(1 for q in Q if q[1] == \"🔴\" && q[2] == \"🔴\") // length(Q)\n",
        "println(\"2個とも赤玉の確率（理論値）: \", prob_2red)\n",
        "\n",
        "# (2) 1個赤玉、1個白玉の確率（理論値）\n",
        "prob_1red1white = sum(1 for q in Q if q[1] != q[2]) // length(Q)\n",
        "println(\"1個赤玉、1個白玉の確率（理論値）: \", prob_1red1white)"
      ]
    },
    {
      "cell_type": "code",
      "execution_count": null,
      "metadata": {},
      "outputs": [],
      "source": [
        "# モンテカルロシミュレーション\n",
        "n = 10^6\n",
        "k = 0\n",
        "\n",
        "for i = 1:n\n",
        "    q = rand(Q)\n",
        "    k += (q == [\"🔴\", \"🔴\"])\n",
        "end\n",
        "\n",
        "println(\"\\n10^6回の実験による2個とも赤玉の確率: \", k/n)\n",
        "println(\"理論値: \", float(prob_2red))"
      ]
    },
    {
      "cell_type": "markdown",
      "metadata": {},
      "source": [
        "## まとめ\n",
        "\n",
        "このノートブックでは、Julia言語を使って高校数学の様々な分野を学習しました：\n",
        "\n",
        "1. **基本計算**: 四則演算、関数定義\n",
        "2. **グラフ描画**: 2D、3D、媒介変数表示\n",
        "3. **方程式**: 記号的解法と数値的解法\n",
        "4. **数列**: 漸化式の実装\n",
        "5. **最適化**: 線形・非線形問題\n",
        "6. **統計**: 信頼区間、分布\n",
        "7. **モンテカルロ法**: 数値積分、確率シミュレーション\n",
        "\n",
        "Julia言語を使うことで、数学の抽象的な概念を具体的に可視化し、\n",
        "実験的に理解を深めることができます。"
      ]
    },
    {
      "cell_type": "markdown",
      "metadata": {},
      "source": [
        "＜その他のサイト＞\n",
        "\n",
        "・[大学入試とJulia言語（JuliaTokai #21）](https://github.com/shimizudan/20250327tokyo-u?tab=readme-ov-file)\n",
        "\n",
        "\n",
        "・[オンライン整数列大辞典(OEIS)に数列を登録してみた！](https://github.com/shimizudan/20250216sundaymath?tab=readme-ov-file)\n",
        "\n",
        "\n",
        "\n",
        "\n",
        "＜参考サイト＞\n",
        "\n",
        "・[Julia言語　ドキュメント（日本語翻訳版）（ごまふあざらし(GomahuAzarashi)）](https://atelierarith.github.io/UnofficialJuliaDocJP/index.html)\n",
        "\n",
        "\n",
        "・[数学と物理におけるJuliaの活用](https://akio-tomiya.github.io/julia_imi_workshop2023/)\n",
        "\n",
        "・[数学ソフトウェアとフリードキュメント XXVIII での講演資料（黒木玄）](https://github.com/genkuroki/msfd28/blob/master/README.md)\n",
        "\n",
        "・[中心極限定理の視覚化の例（黒木玄）](https://colab.research.google.com/drive/1OKlTBuxXw_gA6oyzlk5ACInH2PaebdjC?usp=sharing)\n",
        "\n",
        "\n",
        "・[数値計算法基礎 (2023)（降籏 大介）](http://www.cas.cmc.osaka-u.ac.jp/~paoon/Lectures/2023-8Semester-NA-basic/01-guide-of-julia/)\n",
        "\n",
        "\n",
        "\n",
        "・[Juliaで学ぶ最適化と機械学習（2024）（松井勇佑）](https://matsui528.github.io/julia_opt_ml_2024/)\n",
        "\n",
        "\n",
        "＜書籍＞\n",
        "\n",
        "・[実践Julia入門（後藤 俊介）](https://www.amazon.co.jp/%E5%AE%9F%E8%B7%B5Julia%E5%85%A5%E9%96%80-%E5%BE%8C%E8%97%A4-%E4%BF%8A%E4%BB%8B/dp/4297133504)\n",
        "\n",
        "\n",
        "・[Juliaではじめる数値計算入門（永井 佑紀）](https://www.amazon.co.jp/Julia%E3%81%A7%E3%81%AF%E3%81%98%E3%82%81%E3%82%8B%E6%95%B0%E5%80%A4%E8%A8%88%E7%AE%97%E5%85%A5%E9%96%80-%E6%B0%B8%E4%BA%95-%E4%BD%91%E7%B4%80/dp/4297141280/ref=sr_1_2?crid=11ET9OCCLYC7O&dib=eyJ2IjoiMSJ9.jNMNj7beYNKSYpScrK5aM8WdqV2PyM5VX16cAsUO6pRjpwE6F5zsFlXAG2jGKDEGaAtqh-GgnwAWtbvJEjWdClElwOE5R7JKne1uZsD1VYeKPpYOZCYYWaPkL_MakWaa6fiApZqXWHRcoKRmpqvEm7nTJQvlJu5FUGptydniNtTbJXx-Kgarq_j21UQvl0Mg.SBxh6_FhvW_OIqbCPIG-KjeMUhPBVDsNbfMAVB7scyw&dib_tag=se&keywords=julia+%E6%95%B0%E5%80%A4%E8%A8%88%E7%AE%97&qid=1744521585&s=books&sprefix=julia+%E6%95%B0%E5%80%A4%E8%A8%88%E7%AE%97%2Cstripbooks%2C148&sr=1-2)\n",
        "\n",
        "\n",
        "・[スタンフォード　ベクトル・行列からはじめる最適化数学](https://www.amazon.co.jp/%E3%82%B9%E3%82%BF%E3%83%B3%E3%83%95%E3%82%A9%E3%83%BC%E3%83%89-%E3%83%99%E3%82%AF%E3%83%88%E3%83%AB%E3%83%BB%E8%A1%8C%E5%88%97%E3%81%8B%E3%82%89%E3%81%AF%E3%81%98%E3%82%81%E3%82%8B%E6%9C%80%E9%81%A9%E5%8C%96%E6%95%B0%E5%AD%A6-%EF%BC%AB%EF%BC%B3%E6%83%85%E5%A0%B1%E7%A7%91%E5%AD%A6%E5%B0%82%E9%96%80%E6%9B%B8-%E3%82%B9%E3%83%86%E3%83%95%E3%82%A1%E3%83%B3%E3%83%BB%E3%83%9C%E3%82%A4%E3%83%89-ebook/dp/B0967Y28B6/ref=sr_1_1?crid=2GDKNFUSIEETW&dib=eyJ2IjoiMSJ9.9HxTeLNcae8dMWnlMi2pTV58tkN_LhBqTi0THYnNh19ssNZP5txa4CJ0x743w555KohaDiyQjIaEL_WE1fEfNGOuBS39e9DhGr1T9r15UpRrosJxBhSf4vXNhQKhTPfM.5GpOY-5gHtQ-BeYzaegURuquWvDCvXzIgNf_iFzYlyI&dib_tag=se&keywords=%E3%83%99%E3%82%AF%E3%83%88%E3%83%AB%E8%A1%8C%E5%88%97%E3%81%8B%E3%82%89%E3%81%AF%E3%81%98%E3%82%81%E3%82%8B+%E6%9C%80%E9%81%A9%E5%8C%96%E6%95%B0%E5%AD%A6&qid=1744521708&s=books&sprefix=%E3%83%99%E3%82%AF%E3%83%88%E3%83%AB%E8%A1%8C%E5%88%97%E3%81%8B%E3%82%89%E3%81%AF%E3%81%98%E3%82%81%E3%82%8B+%E6%9C%80%E9%81%A9%E5%8C%96%E6%95%B0%E5%AD%A6%2Cstripbooks%2C141&sr=1-1)\n",
        "\n",
        "\n"
      ]
    },
    {
      "cell_type": "markdown",
      "metadata": {},
      "source": []
    }
  ],
  "metadata": {
    "kernelspec": {
      "display_name": "Julia 1.11.5",
      "language": "julia",
      "name": "julia-1.11"
    },
    "language_info": {
      "file_extension": ".jl",
      "mimetype": "application/julia",
      "name": "julia",
      "version": "1.11.5"
    }
  },
  "nbformat": 4,
  "nbformat_minor": 4
}
